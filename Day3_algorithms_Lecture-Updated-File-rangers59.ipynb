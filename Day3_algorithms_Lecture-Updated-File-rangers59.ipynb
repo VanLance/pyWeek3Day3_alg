{
 "cells": [
  {
   "cell_type": "markdown",
   "metadata": {},
   "source": [
    "# Algorithms, Binary Search & Linked Lists"
   ]
  },
  {
   "cell_type": "markdown",
   "metadata": {},
   "source": [
    "## Tasks Today:\n",
    " \n",
    "1) <b>In-Place Algorithms</b> <br>\n",
    " &nbsp;&nbsp;&nbsp;&nbsp; a) Syntax <br>\n",
    " &nbsp;&nbsp;&nbsp;&nbsp; a) Out of Place Algorithm <br>\n",
    " &nbsp;&nbsp;&nbsp;&nbsp; b) In-Class Exercise #1 <br>\n",
    "2) <b>Two Pointers</b> <br>\n",
    "3) <b>Linked Lists</b> <br>\n",
    "4) <b>Merge Sort</b> <br>\n",
    " &nbsp;&nbsp;&nbsp;&nbsp; a) Video on Algorithms <br>\n",
    " &nbsp;&nbsp;&nbsp;&nbsp; b) How it Works <br>\n",
    "5) <b>Exercises</b> <br>\n",
    " &nbsp;&nbsp;&nbsp;&nbsp; a) Exercise #1 - Reverse a List in Place Using an In-Place Algorithm <br>\n",
    " &nbsp;&nbsp;&nbsp;&nbsp; b) Exercise #2 - Find Distinct Words <br>\n",
    " &nbsp;&nbsp;&nbsp;&nbsp; c) Exercise #3 - Write a program to implement a Linear Search Algorithm. <br>"
   ]
  },
  {
   "cell_type": "markdown",
   "metadata": {},
   "source": [
    "## In-Place Algorithms"
   ]
  },
  {
   "cell_type": "markdown",
   "metadata": {},
   "source": [
    "#### Syntax"
   ]
  },
  {
   "cell_type": "code",
   "execution_count": 5,
   "metadata": {},
   "outputs": [
    {
     "name": "stdout",
     "output_type": "stream",
     "text": [
      "Before swap : [20, 4, 10]\n",
      "After Swap: [10, 4, 20]\n"
     ]
    }
   ],
   "source": [
    "#var[i], var[i+1] = var[i+1] var[i]\n",
    "#sometimes called the swap\n",
    "\n",
    "def swap(alist,x,y,z):\n",
    "    alist[x],alist[y],alist[z] = alist[z],alist[y],alist[x]\n",
    "    return alist\n",
    "my_list=  [20,4,10]\n",
    "print(f'Before swap : {my_list}')\n",
    "\n",
    "swap(my_list,0,1,2)\n",
    "print(f'After Swap: {my_list}')"
   ]
  },
  {
   "cell_type": "markdown",
   "metadata": {},
   "source": [
    "#### Out of Place Algorithm"
   ]
  },
  {
   "cell_type": "code",
   "execution_count": 9,
   "metadata": {},
   "outputs": [
    {
     "name": "stdout",
     "output_type": "stream",
     "text": [
      "[10, 4, 20]\n",
      "[20, 4, 10]\n",
      "before ['a', 'b', 'c', 'd']\n",
      "New Array ['d', 'c', 'b', 'a']\n",
      "After ['a', 'b', 'c', 'd']\n"
     ]
    }
   ],
   "source": [
    "# not swapping, but rather reversing completely\n",
    "#This  creates a copy to another place in memory\n",
    "print(my_list)\n",
    "my_list_copy = my_list[::-1]\n",
    "print(my_list_copy)\n",
    "\n",
    "array = [\"a\",\"b\",\"c\",\"d\"]\n",
    "new_array = [\"a\"] * len(array)\n",
    "\n",
    "print(f\"before\",array)\n",
    "length = len(array)-1\n",
    "\n",
    "for i in range(length):\n",
    "    new_array[i]= array[length - i]\n",
    "print(\"New Array\",new_array)\n",
    "print(\"After\",array)"
   ]
  },
  {
   "cell_type": "markdown",
   "metadata": {},
   "source": [
    "#### In-Class Exercise #1 <br>\n",
    "<p>Write a function that takes in four arguments (list, index1, index2, index3), and swaps those three positions in the list passed in.</p>"
   ]
  },
  {
   "cell_type": "code",
   "execution_count": 22,
   "metadata": {},
   "outputs": [
    {
     "name": "stdout",
     "output_type": "stream",
     "text": [
      "[2, 4, 3, 8, 4, 10, 6]\n"
     ]
    }
   ],
   "source": [
    "l_1 = [10, 4, 3, 8, 4, 2, 6]\n",
    "def swappy(list,a,b,c):\n",
    "    list[a],list[b],list[c] = list[b],list[a],list[c]\n",
    "    return list\n",
    "print(swappy(l_1,0,-2,-1))\n",
    "\n",
    "# another = lambda list,a,b,c: (list[a],list[b],list[c] = list[b],list[a],list[c]), l_1\n",
    "# print(another)\n"
   ]
  },
  {
   "cell_type": "markdown",
   "metadata": {},
   "source": [
    "## Two Pointers"
   ]
  },
  {
   "cell_type": "markdown",
   "metadata": {},
   "source": [
    "#### Syntax"
   ]
  },
  {
   "cell_type": "code",
   "execution_count": 23,
   "metadata": {},
   "outputs": [
    {
     "name": "stdout",
     "output_type": "stream",
     "text": [
      "[5, 99, 7, 16, 3, 2, 1]\n"
     ]
    }
   ],
   "source": [
    "#alist[left], alist[right]= alist[right],alist[left]\n",
    "# Use two pointers to swap, can use a while loop in most cases\n",
    "\n",
    "def twoPointers(alist):\n",
    "    #Creating pointers for the list below:\n",
    "    left=0\n",
    "    right= len(alist)-1\n",
    "    while left <= right:\n",
    "        alist[left], alist[right]= alist[right], alist[left]\n",
    "        left += 1\n",
    "        right -= 1\n",
    "    return alist\n",
    "\n",
    "my_list_2 = [1,2,3,16,7,99,5]\n",
    "print(twoPointers(my_list_2))"
   ]
  },
  {
   "cell_type": "markdown",
   "metadata": {},
   "source": [
    "#### Video of Algorithms <br>\n",
    "<p>Watch the video about algorithms.</p>\n",
    "\n",
    "https://www.youtube.com/watch?v=Q9HjeFD62Uk\n",
    "\n",
    "https://www.youtube.com/watch?v=kPRA0W1kECg\n",
    "\n",
    "https://www.youtube.com/watch?v=ZZuD6iUe3Pc"
   ]
  },
  {
   "cell_type": "markdown",
   "metadata": {},
   "source": [
    "# Sorting Algorithms"
   ]
  },
  {
   "cell_type": "markdown",
   "metadata": {},
   "source": [
    "#### Bubble Sort\n",
    "\n",
    "Worst Case: O(n^2) Time - O(1) Space"
   ]
  },
  {
   "cell_type": "code",
   "execution_count": 25,
   "metadata": {},
   "outputs": [
    {
     "data": {
      "text/plain": [
       "[1, 22, 34, 44, 55, 66, 88, 100]"
      ]
     },
     "execution_count": 25,
     "metadata": {},
     "output_type": "execute_result"
    }
   ],
   "source": [
    "# Best case : O(n) - Linear\n",
    "\n",
    "def swap(i,j, array):\n",
    "    array[i],array[j] = array[j], array[i]\n",
    "    \n",
    "def bubbleSort(array):\n",
    "    isSorted = False\n",
    "    while not isSorted:\n",
    "        isSorted = True\n",
    "        for num in range(len(array)-1):\n",
    "            if array[num]> array[num+1]:\n",
    "                swap(num,num+1,array)\n",
    "                isSorted= False\n",
    "    return array\n",
    "bubbleSort([22,55,88,44,1,100,34,66])\n",
    "                                       "
   ]
  },
  {
   "cell_type": "markdown",
   "metadata": {},
   "source": [
    "##### Insertion Sort\n",
    "\n",
    "Worst Case: O(n^2) time - O(1)space"
   ]
  },
  {
   "cell_type": "code",
   "execution_count": 31,
   "metadata": {},
   "outputs": [
    {
     "name": "stdout",
     "output_type": "stream",
     "text": [
      "22 55 88 44 1 100 34 66\n",
      "i = 3 j = 2: [22, 55, 44, 88, 1, 100, 34, 66]\n",
      "i = 3 j = 1: [22, 44, 55, 88, 1, 100, 34, 66]\n",
      "i = 4 j = 3: [22, 44, 55, 1, 88, 100, 34, 66]\n",
      "i = 4 j = 2: [22, 44, 1, 55, 88, 100, 34, 66]\n",
      "i = 4 j = 1: [22, 1, 44, 55, 88, 100, 34, 66]\n",
      "i = 4 j = 0: [1, 22, 44, 55, 88, 100, 34, 66]\n",
      "i = 6 j = 5: [1, 22, 44, 55, 88, 34, 100, 66]\n",
      "i = 6 j = 4: [1, 22, 44, 55, 34, 88, 100, 66]\n",
      "i = 6 j = 3: [1, 22, 44, 34, 55, 88, 100, 66]\n",
      "i = 6 j = 2: [1, 22, 34, 44, 55, 88, 100, 66]\n",
      "i = 7 j = 6: [1, 22, 34, 44, 55, 88, 66, 100]\n",
      "i = 7 j = 5: [1, 22, 34, 44, 55, 66, 88, 100]\n"
     ]
    },
    {
     "data": {
      "text/plain": [
       "[1, 22, 34, 44, 55, 66, 88, 100]"
      ]
     },
     "execution_count": 31,
     "metadata": {},
     "output_type": "execute_result"
    }
   ],
   "source": [
    "def swap(i,j,array):\n",
    "    array[i], array[j] = array[j],array[i]\n",
    "    \n",
    "def insertionSort(array):\n",
    "    for i in range(1,len(array)):\n",
    "        j = i\n",
    "        while j > 0 and array[j] < array[j-1]:\n",
    "            swap(j, j-1, array)\n",
    "            j -= 1\n",
    "            print(f'i = {i} j = {j}: {array}')\n",
    "    return array\n",
    "print(22,55,88,44,1,100,34,66)\n",
    "insertionSort([22,55,88,44,1,100,34,66])"
   ]
  },
  {
   "cell_type": "markdown",
   "metadata": {},
   "source": [
    "## Merge Sort"
   ]
  },
  {
   "cell_type": "markdown",
   "metadata": {},
   "source": [
    "#### How it Works"
   ]
  },
  {
   "cell_type": "code",
   "execution_count": 2,
   "metadata": {},
   "outputs": [
    {
     "name": "stdout",
     "output_type": "stream",
     "text": [
      "original nums list [5, 4, 4, 7, 9]\n",
      "Splitting...  [5, 4, 4, 7, 9]\n",
      "Splitting...  [5, 4]\n",
      "Splitting...  [5]\n",
      "Merging...  [5]\n",
      "Splitting...  [4]\n",
      "Merging...  [4]\n",
      "Merging...  [4, 5]\n",
      "Splitting...  [4, 7, 9]\n",
      "Splitting...  [4]\n",
      "Merging...  [4]\n",
      "Splitting...  [7, 9]\n",
      "Splitting...  [7]\n",
      "Merging...  [7]\n",
      "Splitting...  [9]\n",
      "Merging...  [9]\n",
      "Merging...  [7, 9]\n",
      "Merging...  [4, 7, 9]\n",
      "Merging...  [4, 4, 5, 7, 9]\n"
     ]
    },
    {
     "data": {
      "text/plain": [
       "[4, 4, 5, 7, 9]"
      ]
     },
     "execution_count": 2,
     "metadata": {},
     "output_type": "execute_result"
    }
   ],
   "source": [
    "# Step 1: Split everything into its own group\n",
    "# Step 2: From left to right merge the two groups togethre\n",
    "#Step 3: WHile merging , place each item into the correct position within merged group\n",
    "# Step 4: Countinue steps 2-3 until one group is left\n",
    "\n",
    "from random import randint\n",
    "#used to generate random list of integers from 0 - 20\n",
    "nums = [randint(0,20) for i in range(5)]\n",
    "\n",
    "# Write MergeSort Function\n",
    "def mergeSort(alist):\n",
    "    print(\"Splitting... \", alist)\n",
    "    #Step 1: Divide the array into equal parts (as much as possible)\n",
    "    if len(alist) > 1:\n",
    "        mid = len(alist)//2\n",
    "        lefthalf = alist[:mid]\n",
    "        righthalf= alist[mid:]\n",
    "        \n",
    "        #Recursively call mergeSort to perform split as needed\n",
    "        #Then merge once splits are done\n",
    "        mergeSort(lefthalf)\n",
    "        mergeSort(righthalf)\n",
    "        \n",
    "        #index pointers for our list\n",
    "        i = 0 #pointer for left half\n",
    "        j= 0 #pointer for right half\n",
    "        k = 0 #pointer for the main array\n",
    "        \n",
    "        # Step 2: Compare and merge from left to right\n",
    "        while i <len(lefthalf) and j < len(righthalf):\n",
    "            if lefthalf[i] < righthalf[j]:\n",
    "                alist[k] = lefthalf[i]\n",
    "                i += 1\n",
    "            else:\n",
    "                alist[k] = righthalf[j]\n",
    "                j = j + 1\n",
    "            k += 1\n",
    "            \n",
    "            \n",
    "        # Step 3: While merging place items in the correct position\n",
    "        while i < len(lefthalf):\n",
    "            alist[k] = lefthalf[i]\n",
    "            i += 1\n",
    "            k += 1\n",
    "        while j < len(righthalf):\n",
    "            alist[k] = righthalf[j]\n",
    "            j += 1\n",
    "            k += 1\n",
    "    print(f'Merging... ', alist)\n",
    "    return  alist\n",
    "print(\"original nums list\", nums)\n",
    "mergeSort(nums)"
   ]
  },
  {
   "cell_type": "markdown",
   "metadata": {},
   "source": [
    "# Binary Search\n",
    "\n",
    "The Binary Search algorithm works by finding the number in the middle of a given array and comparing it to the target. Given that the array is sorted\n",
    "\n",
    "* The worst case run time for this algorithm is `O(log(n))`"
   ]
  },
  {
   "cell_type": "code",
   "execution_count": 4,
   "metadata": {},
   "outputs": [
    {
     "data": {
      "text/plain": [
       "'The index is 6'"
      ]
     },
     "execution_count": 4,
     "metadata": {},
     "output_type": "execute_result"
    }
   ],
   "source": [
    "# less == Left\n",
    "# greater == Right\n",
    "# List of number Must be sorted\n",
    "\n",
    "def binarySearchHelperFunction(array, target, left, right):\n",
    "    while left <= right:\n",
    "        middle = (left + right) // 2\n",
    "        potentialMatch= array[middle]\n",
    "        if target == potentialMatch:\n",
    "            return f'The index is {middle}'\n",
    "        elif target< potentialMatch:\n",
    "            right = middle - 1\n",
    "        else:\n",
    "            left = middle + 1\n",
    "    return -1\n",
    "\n",
    "def binarySearch(array,target):\n",
    "    return binarySearchHelperFunction(array, target, 0, len(array)-1)\n",
    "binarySearch([1, 22, 34, 44, 55, 66, 88, 100],88)"
   ]
  },
  {
   "cell_type": "markdown",
   "metadata": {},
   "source": [
    "# Exercises"
   ]
  },
  {
   "cell_type": "markdown",
   "metadata": {},
   "source": [
    "### Exercise #1 <br>\n",
    "<p>Reverse the list below in-place using an in-place algorithm.<br>For extra credit: Reverse the strings at the same time.</p>"
   ]
  },
  {
   "cell_type": "code",
   "execution_count": 5,
   "metadata": {},
   "outputs": [
    {
     "name": "stdout",
     "output_type": "stream",
     "text": [
      "['.', 'sentence', 'a', 'is', 'this']\n"
     ]
    }
   ],
   "source": [
    "words = ['this' , 'is', 'a', 'sentence', '.']\n",
    "def esrever(alist,a,b,c,d):\n",
    "    alist[a],alist[b],alist[c],alist[d] = alist[d],alist[c],alist[b],alist[a]\n",
    "    return alist\n",
    "\n",
    "print(esrever(words,0,1,3,4))"
   ]
  },
  {
   "cell_type": "markdown",
   "metadata": {},
   "source": [
    "### Exercise #2 <br>\n",
    "<p>Create a function that counts how many distinct words are in the string below, then outputs a dictionary with the words as the key and the value as the amount of times that word appears in the string.<br>Should output:<br>{'a': 5,<br>\n",
    " 'abstract': 1,<br>\n",
    " 'an': 3,<br>\n",
    " 'array': 2, ... etc...</p>"
   ]
  },
  {
   "cell_type": "code",
   "execution_count": 41,
   "metadata": {},
   "outputs": [
    {
     "data": {
      "text/plain": [
       "{'a': 5,\n",
       " 'abstract': 1,\n",
       " 'an': 3,\n",
       " 'array': 2,\n",
       " 'associative': 1,\n",
       " 'be': 1,\n",
       " 'buckets': 1,\n",
       " 'can': 2,\n",
       " 'compute': 1,\n",
       " 'computing,': 1,\n",
       " 'data': 2,\n",
       " 'desired': 1,\n",
       " 'found': 1,\n",
       " 'from': 1,\n",
       " 'function': 1,\n",
       " 'hash': 4,\n",
       " 'implements': 1,\n",
       " 'in': 1,\n",
       " 'index': 1,\n",
       " 'into': 1,\n",
       " 'is': 1,\n",
       " 'keys': 1,\n",
       " 'map': 2,\n",
       " 'of': 1,\n",
       " 'or': 1,\n",
       " 'slots': 1,\n",
       " 'structure': 2,\n",
       " 'table': 2,\n",
       " 'that': 1,\n",
       " 'the': 1,\n",
       " 'to': 2,\n",
       " 'type,': 1,\n",
       " 'uses': 1,\n",
       " 'value': 1,\n",
       " 'values.': 1,\n",
       " 'which': 2}"
      ]
     },
     "execution_count": 41,
     "metadata": {},
     "output_type": "execute_result"
    }
   ],
   "source": [
    "a_text = 'In computing, a hash table hash map is a data structure which implements an associative array abstract data type, a structure that can map keys to values. A hash table uses a hash function to compute an index into an array of buckets or slots from which the desired value can be found'\n",
    "\n",
    "def counts(astring):\n",
    "    newdict = {}\n",
    "    answer =astring.lower().split()\n",
    "    answer.sort()\n",
    "    for word in answer:\n",
    "        newdict[word.lower()]=newdict.get(word.lower(),0)+1\n",
    "\n",
    "    return newdict\n",
    "\n",
    "counts(a_text)\n",
    "# thisdict\n",
    "# print(newdict)"
   ]
  },
  {
   "cell_type": "markdown",
   "metadata": {},
   "source": [
    "## Exercise #3\n",
    "\n",
    "Write a program to implement a Linear Search Algorithm. Also in a comment, write the Time Complexity of the following algorithm.\n",
    "\n",
    "#### Hint: Linear Searching will require searching a list for a given number. "
   ]
  },
  {
   "cell_type": "code",
   "execution_count": 42,
   "metadata": {},
   "outputs": [
    {
     "data": {
      "text/plain": [
       "3"
      ]
     },
     "execution_count": 42,
     "metadata": {},
     "output_type": "execute_result"
    }
   ],
   "source": [
    "#Time Complexity O(N)\n",
    "nums_list = [10,23,45,70,11,15]\n",
    "target = 70\n",
    "\n",
    "# If number is not present return -1\n",
    "def linSearch(arr,target):\n",
    "    for i in range(len(arr)):\n",
    "        if arr[i] == target:\n",
    "            return i\n",
    "        \n",
    "linSearch(nums_list,70)\n"
   ]
  }
 ],
 "metadata": {
  "kernelspec": {
   "display_name": "Python 3",
   "language": "python",
   "name": "python3"
  },
  "language_info": {
   "codemirror_mode": {
    "name": "ipython",
    "version": 3
   },
   "file_extension": ".py",
   "mimetype": "text/x-python",
   "name": "python",
   "nbconvert_exporter": "python",
   "pygments_lexer": "ipython3",
   "version": "3.8.8"
  }
 },
 "nbformat": 4,
 "nbformat_minor": 2
}
